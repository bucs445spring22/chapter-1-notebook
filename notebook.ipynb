{
 "cells": [
  {
   "cell_type": "markdown",
   "metadata": {},
   "source": [
    "# Software Engineering\n",
    "\n",
    "## Chapter *1*\n",
    "\n",
    "## *Software Engineering Fundamentals*\n",
    "### Chapter Due Date: *11:59 pm (midnight),  Friday, February 4th*\n",
    "### Last Updated: *Friday, January 28th*\n"
   ]
  },
  {
   "cell_type": "markdown",
   "metadata": {},
   "source": [
    "**Learning Objective**: *Learn fundamental concepts behind software engineering*"
   ]
  },
  {
   "cell_type": "markdown",
   "metadata": {},
   "source": [
    "### Part 1\n",
    "\n",
    "#### Software Engeering Basics\n",
    "\n",
    "> **Software Engineering Rule #1**: *Software breaks at the interfaces*  \n",
    "> If you don't do a system architectural design with well-defined interfaces, integration will be a big mess."
   ]
  },
  {
   "cell_type": "markdown",
   "metadata": {},
   "source": [
    "Fundamentally, Software Engineering applies CS Concepts to practical applications. It is relatively easy to write computer programs without using software engineering methods and techniques.  \n",
    "\n",
    "**programming is NOT software engineering**"
   ]
  },
  {
   "cell_type": "markdown",
   "metadata": {},
   "source": [
    "---"
   ]
  },
  {
   "cell_type": "markdown",
   "metadata": {},
   "source": [
    "#### Runtime And Memory"
   ]
  },
  {
   "cell_type": "markdown",
   "metadata": {},
   "source": [
    "For any computing task, there are two factors\n",
    "* Runtime\n",
    "* Memory\n",
    "\n",
    "**General Tradeoffs**\n",
    "If your requirements are to use less memory, you will need a longer the runtime.\n",
    "If your requirements are a shorter runtime, you will need more memory\n",
    "\n",
    "As developers, we need to be concerned with:\n",
    "\n",
    "1. Is it possible for our program to crash due to memory usage?\n",
    "2. Will our program complete each task in a reasonable amount of time?"
   ]
  },
  {
   "cell_type": "markdown",
   "metadata": {},
   "source": [
    "\n",
    "**Complexity**\n",
    "\n",
    "We can measure how efficient our code is using Big O notation, or 'complexity'.\n",
    "\n",
    "*Complexity* is the resource usage of a task as the number of objects grows. Essentially, how well does your resources usage **scale**?\n",
    "\n",
    "While we should be able to define complexity precisely (mathematically), we can be more general when developing most software. However, there are two types of software categories when it comes to Big 0 notation:\n",
    "\n",
    "* **Non-Safety-Critical**: it's okay to be general\n",
    "* **Safety-critical**: it's not okay to estimate because you might kill people\n",
    "\n",
    "We can break down complexity into 5 categories:\n",
    "\n",
    "* **C**: Constant time, the number of objects does not change the resource usage\n",
    "* **logarithmic**: The resource usage grows exponentially slower than the number of objects\n",
    "* **linear**: The resource usage is proportional to the number of objects\n",
    "* **quadratic**: The resource usage grows faster than the number of objects\n",
    "* **exponential/factorial**: The resource usage grows much, much faster than the number of objects\n",
    "\n",
    "How would you define the complexity of the following tasks?\n",
    "\n",
    "* Solving a jigsaw puzzle\n",
    "* Passing back an assignment\n",
    "* Throwing dice until you get all the same number \n",
    "* Walking to class\n",
    "* Finding a name in dictionary\n",
    "\n",
    "\n",
    "Keep in mind that complexity applies to both time and memory usage. \n",
    "\n",
    "Your software's complexity is determined by the highest complexity component that will receive input.\n",
    "\n",
    "For example, if you are building software for an airplane, and the testing software, which runs after every cpu cycle, uses a ***bubble sort*** to sort the signals coming across the bus instead of a ***quicksort*** because the software lead didn't want to take the time to write a ***quicksort*** like the developer emphatically suggested and said, \"It'll be fine.\" But it wasn't, and it put us behind 3 weeks during code review because now the entire software suite had a quadratic complexity and it needed to be logarithmic.\n",
    "(*and guess who got blamed, not the software lead*).\n"
   ]
  },
  {
   "cell_type": "markdown",
   "metadata": {},
   "source": [
    "---"
   ]
  },
  {
   "cell_type": "markdown",
   "metadata": {},
   "source": [
    "##### Software Design Principles\n",
    "\n",
    "* Data Structures\n",
    "    * Data Structures define the grouping and interfaces (*operations*) for your data\n",
    "        * One of the first data structures you were introduced to is an `int`\n",
    "        * Assuming you were working in a C based language, an `int` is a data structure that defines 32 bits as an integer in the range of 2^32 that can be added, subtracted, multiplied, and divided\n",
    "    * There are four basic operations every Data Structure must implement\n",
    "        * Create\n",
    "        * Read\n",
    "        * Update\n",
    "        * Delete\n",
    "* Algorithms\n",
    "    * The difference between a program that uses resources inefficiently and a program that uses resources efficiently is algorithms  \n",
    "    * An algorithm is just a set of steps to solve a specific problem. While it is useful to know how to implement merge-sort or Dijkstra's Shortest Path, it is more important that you know when and why they are better.\n",
    "        * Quicksort is a fast sorting algorithm, but if you do not understand why, you may get worse complexity than bubble sort. Understanding the tradeoffs and why they exist is more important than memorizing the Algorithms \n",
    "    *(don't tell Madden I said that)*\n",
    "* Design Patterns\n",
    "    * How you design the system determines how maintainable and how \"updatable\" the system is.\n",
    "    * Design Patterns describe ways to design software systems and components\n",
    "        * Examples: MVC, Singleton, Proxy\n",
    "            * technically, MVC isn't a design pattern\n",
    "    * Design Patterns are concerned with creating a system where changing component A does not force you to then alter component B, which then requires you to alter component C, etc...\n",
    "        * Our software should be:\n",
    "            1. encapsulated\n",
    "                * capable of running independent of resources outside the local system\n",
    "            2. modular\n",
    "                * each internal component has an associated data structure made up of other internal components or data.\n",
    "            3. loosely coupled\n",
    "                * The internal components have minimal interdependence"
   ]
  },
  {
   "cell_type": "markdown",
   "metadata": {},
   "source": [
    "\n",
    "#### Principles of software development\n",
    "\n",
    "1. **Keep It Simple Superhero**  \n",
    "Don't over-complicate a solution. If you are only sorting the first 3 letters in someone's name, you don't need to implement quicksort.\n",
    "\n",
    "2. **You Aren't Gonna Need It (YAGNI)**  \n",
    "Only add functionality as you need it. If you design correctly, it will be easy to add new functionality.\n",
    "\n",
    "3. **Measure Twice and Cut Once**  \n",
    "Test, test, then test again. When you are done with that, do some more testing.\n",
    "\n",
    "4. **DRY**  \n",
    "Don't repeat yourself. If you have the same code twice in in your program, you're wasting memory resources.\n",
    "\n",
    "5. **Occam's Razor**  \n",
    "Start with the simplest solution, even if it is inefficient. Donald Knuth asserted that the root of all evil in programming is premature optimization (*much of the code you write will get thrown away*).\n",
    "\n",
    "6. **Big Design Up Front (BDUF)**  \n",
    "Design everything before writing a single line of code. But know that your design will change once you do.\n",
    "\n",
    "7. **The Principle of Least Astonishment**  \n",
    "The principle of least astonishment says that it is advisable to design a feature that doesn’t have a high-astonishment factor. Users prefer obvious, predictable, and consistent.\n",
    "\n",
    "8. **Law of Demeter**\n",
    "Divide responsibilities between classes and reduce coupling between them. Another words, \"only talk to your friends\"."
   ]
  },
  {
   "cell_type": "markdown",
   "metadata": {},
   "source": [
    "**S.O.L.I.D**\n",
    "It is an acronym that stands for five object-oriented programming and design principles.\n",
    "\n",
    "* S- Single Responsibility Principle (SRP)\n",
    "\n",
    "* O- Open/Closed Principle (OCP)\n",
    "\n",
    "* L- Liskov Substitution Principle\n",
    "\n",
    "* I-Interface Segregation Principle\n",
    "\n",
    "* D- Dependency Inversion Principle\n",
    "\n",
    "Let’s take a brief look into each of these principles:\n",
    "\n",
    "#### Single Responsibility Principle (SRP)\n",
    "\n",
    "It is a software engineering principle that states that a class should have only one reason to change. In other words, it must have only one responsibility.\n",
    "\n",
    "Here, we are talking about cohesion. All elements in given class structures or modules should have a functional affinity to one another. By clearly defining your class’s responsibility, you increase its cohesiveness.\n",
    "\n",
    "#### Open/Closed Principle (OCP)\n",
    "\n",
    "The principle says that you should be able to change the behavior of a class without modifying it.\n",
    "\n",
    "Therefore, you can extend the class’s behavior through composition, interface, and inheritance. However, you cannot open it for minor modifications.\n",
    "\n",
    "#### Liskov Substitution Principle (LSP)\n",
    "\n",
    "In her 1988 research paper, Barbara Liskov stated that derived classes should be replaceable by their base class(es). Thus, you need to exercise care when using inheritance in your project works.\n",
    "\n",
    "While inheritance is beneficial, it is advisable to use it contextually and moderately. The principle strives to prevent cases where classes are extended only through common things.\n",
    "\n",
    "You need to consider the pre-conditions and post-conditions of a class before performing inheritance.\n",
    "\n",
    "#### Interface Segregation Principle (ISP)\n",
    "\n",
    "ISP prefers many specific interfaces to a general interface. The goal is to have finely grained and client-specific interfaces.\n",
    "\n",
    "You need to enhance cohesion in interfaces and develop lean modules- those with few behaviors.\n",
    "\n",
    "Interfaces that have many behaviors are hard to maintain and evolve. So, you should avoid them.\n",
    "\n",
    "#### Dependency Inversion Principle (DIP)\n",
    "\n",
    "The principle asserts that programmers should depend on abstractions and not on concrete classes. We can break it into two:\n",
    "\n",
    "* High-level modules need to be independent of low-level ones. Both should depend on abstractions\n",
    "\n",
    "* Abstractions should be independent of details. Details should depend on abstractions.\n",
    "\n",
    "So, what is the reason behind this principle? The answer is that abstractions don’t change a lot. Therefore, you can easily change the behavior of your closed or open-source code. That way, you boost its future evolution."
   ]
  }
 ],
 "metadata": {
  "interpreter": {
   "hash": "d396f3607e8b3e6bfc2fdae356169562b28e273c2fda1d30f25e33089c9c8fcf"
  },
  "kernelspec": {
   "display_name": "Python 3.9.9 64-bit ('3.9.9': pyenv)",
   "language": "python",
   "name": "python3"
  },
  "language_info": {
   "codemirror_mode": {
    "name": "ipython",
    "version": 3
   },
   "file_extension": ".py",
   "mimetype": "text/x-python",
   "name": "python",
   "nbconvert_exporter": "python",
   "pygments_lexer": "ipython3",
   "version": "3.9.9"
  },
  "orig_nbformat": 4
 },
 "nbformat": 4,
 "nbformat_minor": 2
}
