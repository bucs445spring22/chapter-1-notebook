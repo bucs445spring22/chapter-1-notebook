{
 "cells": [
  {
   "cell_type": "markdown",
   "metadata": {},
   "source": [
    "# Software Engineering\n",
    "\n",
    "## Chapter *1*\n",
    "\n",
    "## *Software Engineering Fundamentals*\n",
    "### Chapter Due Date: *11:59 pm (midnight),  Friday, February 4th*\n",
    "### Last Updated: *Friday, January 28th*\n"
   ]
  },
  {
   "cell_type": "markdown",
   "metadata": {},
   "source": [
    "**Learning Objective**: *Learn fundamental concepts behind software engineering*"
   ]
  },
  {
   "cell_type": "markdown",
   "metadata": {},
   "source": [
    "#### Software Engineering Basics\n",
    "\n",
    "> **Software Engineering Rule #1**: *Software breaks at the interfaces*  \n",
    "> If you don't do a system architectural design with well-defined interfaces, integration will be a big mess."
   ]
  },
  {
   "cell_type": "markdown",
   "metadata": {},
   "source": [
    "**programming is not software engineering**"
   ]
  },
  {
   "cell_type": "markdown",
   "metadata": {},
   "source": [
    "**Well-structured, stable programs**\n",
    "\n",
    "1. Time\n",
    "2. Space (memory)\n",
    "\n",
    "* Can my program crash?\n",
    "* Will it end in a reasonable amount of time?\n"
   ]
  },
  {
   "cell_type": "markdown",
   "metadata": {},
   "source": [
    "How do we measure resource usage?\n",
    "How do we measure stability?\n",
    "\n",
    "**complexity**\n",
    "\n",
    "1. Safety-Critical: need precise complexity\n",
    "2. Non-Safety Critical: Okay to estimate\n",
    "\n",
    "Complexity == Scale?\n",
    "\n",
    "**Types of Complexity**\n",
    "\n",
    "C: constant, number of objects doesn't affect resource usage\n",
    "Logarithmic: resources usage grows much more slowly than the number of object\n",
    "Linear: resource usage grows in proportion to number of objects\n",
    "Quadratic: resources usage grows much more quickly than the number of objects\n",
    "exponential/factorial: unfeasible unless you have small of objects\n",
    "\n",
    "The highest complexity point on our program determines it's complexity\n"
   ]
  },
  {
   "cell_type": "markdown",
   "metadata": {},
   "source": [
    "1. Solving a Jigsaw Puzzle: quadratic\n",
    "2. Walking to class: linear\n",
    "3. Passing back and assignment: logarithmic\n",
    "4. throwing dice until you get all the same number: factorial/exponential\n",
    "5. Finding a word in a dictionary: C"
   ]
  },
  {
   "cell_type": "markdown",
   "metadata": {},
   "source": [
    "---"
   ]
  },
  {
   "cell_type": "markdown",
   "metadata": {},
   "source": [
    "#### Software Design Principles"
   ]
  },
  {
   "cell_type": "markdown",
   "metadata": {},
   "source": [
    "Roles: Backend, Frontend\n",
    "\n",
    "***Data Structures***\n",
    "4 basic operations every data structure must perform.\n",
    "* CRUD\n",
    "    * create\n",
    "    * read\n",
    "    * update\n",
    "    * delete\n",
    "\n",
    "***Algorithms***\n",
    "Understand why to use algorithms"
   ]
  },
  {
   "cell_type": "markdown",
   "metadata": {},
   "source": [
    "#### Design Patterns\n",
    "\n",
    "* maintainable\n",
    "* encapsulated\n",
    "* secure\n",
    "* modular\n",
    "\n",
    "\"Russ Olsen\"\n",
    "\n",
    "A -> B -> C -> Z"
   ]
  },
  {
   "cell_type": "markdown",
   "metadata": {},
   "source": [
    "---"
   ]
  },
  {
   "cell_type": "code",
   "execution_count": 2,
   "metadata": {},
   "outputs": [
    {
     "name": "stdout",
     "output_type": "stream",
     "text": [
      "Hello\n"
     ]
    }
   ],
   "source": [
    "import random #modules - python always checks locally first\n",
    "from datetime import datetime\n",
    "\n",
    "#Is python object oriented?\n",
    "# - we can group data with it's behavior\n",
    "\n",
    "def main():\n",
    "    print(\"Hello\")\n",
    "\n",
    "#dunder: __symbol__\n",
    "if __name__ == \"__main__\": \n",
    "    main()\n",
    "\n",
    "\n"
   ]
  },
  {
   "cell_type": "markdown",
   "metadata": {},
   "source": [
    "# What's so great about object oriented programming?\n",
    "* Allows us to model real world objects\n",
    "* Groups similar functionality\n",
    "* Polymorphism\n",
    "\n",
    "# What's wrong with OOP?\n",
    "* Bloat\n",
    "* Lead to over-design\n",
    "\n",
    "\n",
    "* Abstraction: Encapsulation, Black-Boxing the functionality\n",
    "* Interface: the functionality and public data of a object\n",
    "\n",
    "\n"
   ]
  },
  {
   "cell_type": "code",
   "execution_count": 5,
   "metadata": {},
   "outputs": [
    {
     "name": "stdout",
     "output_type": "stream",
     "text": [
      "<class 'int'>\n",
      "<class 'float'>\n",
      "<class 'str'>\n",
      "<class 'NoneType'>\n"
     ]
    }
   ],
   "source": [
    "print(type(1))\n",
    "print(type(1.0))\n",
    "print(type(\"1\"))\n",
    "\n",
    "print(type(None))"
   ]
  },
  {
   "cell_type": "markdown",
   "metadata": {},
   "source": [
    "\n",
    "### Part 2\n",
    "\n",
    "#### Software Engeering Basics\\n\",\n",
    "\n",
    "> **Software Engineering Rule #2**: *Good software is in your head, not the computer*  \\n\",\n",
    "> Design, Design, Design, then design some more. You should spend at least as much time designing your code, before you write a single line, as you will spend coding.\n"
   ]
  }
 ],
 "metadata": {
  "interpreter": {
   "hash": "d396f3607e8b3e6bfc2fdae356169562b28e273c2fda1d30f25e33089c9c8fcf"
  },
  "kernelspec": {
   "display_name": "Python 3.9.9 64-bit ('3.9.9': pyenv)",
   "language": "python",
   "name": "python3"
  },
  "language_info": {
   "codemirror_mode": {
    "name": "ipython",
    "version": 3
   },
   "file_extension": ".py",
   "mimetype": "text/x-python",
   "name": "python",
   "nbconvert_exporter": "python",
   "pygments_lexer": "ipython3",
   "version": "3.9.9"
  },
  "orig_nbformat": 4
 },
 "nbformat": 4,
 "nbformat_minor": 2
}
