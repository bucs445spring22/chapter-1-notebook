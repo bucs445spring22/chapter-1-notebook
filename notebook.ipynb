{
 "cells": [
  {
   "cell_type": "markdown",
   "metadata": {},
   "source": [
    "# Software Engineering\n",
    "\n",
    "## Chapter *1*\n",
    "\n",
    "## *Software Engineering Fundamentals*\n",
    "### Chapter Due Date: *11:59 pm (midnight),  Friday, February 4th*\n",
    "### Last Updated: *Friday, January 28th*\n"
   ]
  },
  {
   "cell_type": "markdown",
   "metadata": {},
   "source": [
    "**Learning Objective**: *Learn fundamental concepts behind software engineering*"
   ]
  },
  {
   "cell_type": "markdown",
   "metadata": {},
   "source": [
    "### Part 1\n",
    "\n",
    "#### Software Engeering Basics\n",
    "\n",
    "> **Software Engineering Rule #1**: *Software breaks at the interfaces*  \n",
    "> If you don't do a system architectural design with well-defined interfaces, integration will be a big mess."
   ]
  },
  {
   "cell_type": "markdown",
   "metadata": {},
   "source": [
    "Fundamentally, Software Engineering applies CS Concepts to practical applications. It is relatively easy to write computer programs without using software engineering methods and techniques.  \n",
    "\n",
    "**programming is NOT software engineering**"
   ]
  },
  {
   "cell_type": "markdown",
   "metadata": {},
   "source": [
    "---"
   ]
  },
  {
   "cell_type": "markdown",
   "metadata": {},
   "source": [
    "#### Runtime And Memory"
   ]
  },
  {
   "cell_type": "markdown",
   "metadata": {},
   "source": [
    "For any computing task, there are two factors\n",
    "* Runtime\n",
    "* Memory\n",
    "\n",
    "**General Tradeoffs**\n",
    "If your requirements are to use less memory, you will need a longer the runtime.\n",
    "If your requirements are a shorter runtime, you will need more memory\n",
    "\n",
    "As developers, we need to be concerned with:\n",
    "\n",
    "1. Is it possible for our program to crash due to memory usage?\n",
    "2. Will our program complete each task in a reasonable amount of time?"
   ]
  },
  {
   "cell_type": "markdown",
   "metadata": {},
   "source": [
    "\n",
    "**Complexity**\n",
    "\n",
    "We can measure how efficient our code is using Big O notation, or 'complexity'.\n",
    "\n",
    "*Complexity* is the resource usage of a task as the number of objects grows. Essentially, how well does your resources usage **scale**?\n",
    "\n",
    "While we should be able to define complexity precisely (mathematically), we can be more general when developing most software. However, there are two types of software categories when it comes to Big 0 notation:\n",
    "\n",
    "* **Non-Safety-Critical**: it's okay to be general\n",
    "* **Safety-critical**: it's not okay to estimate because you might kill people\n",
    "\n",
    "We can break down complexity into 5 categories:\n",
    "\n",
    "* **C**: Constant time, the number of objects does not change the resource usage\n",
    "* **logarithmic**: The resource usage grows exponentially slower than the number of objects\n",
    "* **linear**: The resource usage is proportional to the number of objects\n",
    "* **quadratic**: The resource usage grows faster than the number of objects\n",
    "* **exponential/factorial**: The resource usage grows much, much faster than the number of objects\n",
    "\n",
    "How would you define the complexity of the following tasks?\n",
    "\n",
    "* Solving a jigsaw puzzle\n",
    "* Passing back an assignment\n",
    "* Throwing dice until you get all the same number \n",
    "* Walking to class\n",
    "* Finding a name in dictionary\n",
    "\n",
    "\n",
    "Keep in mind that complexity applies to both time and memory usage. \n",
    "\n",
    "Your software's complexity is determined by the highest complexity component that will receive input.\n",
    "\n",
    "For example, if you are building software for an airplane, and the testing software, which runs after every cpu cycle, uses a ***bubble sort*** to sort the signals coming across the bus instead of a ***quicksort*** because the software lead didn't want to take the time to write a ***quicksort*** like the developer emphatically suggested and said, \"It'll be fine.\" But it wasn't, and it put us behind 3 weeks during code review because now the entire software suite had a quadratic complexity and it needed to be logarithmic.\n",
    "(*and guess who got blamed, not the software lead*).\n"
   ]
  },
  {
   "cell_type": "markdown",
   "metadata": {},
   "source": [
    "---"
   ]
  },
  {
   "cell_type": "markdown",
   "metadata": {},
   "source": [
    "##### Software Design Principles\n",
    "\n",
    "* Data Structures\n",
    "    * Data Structures define the grouping and interfaces (*operations*) for your data\n",
    "        * One of the first data structures you were introduced to is an `int`\n",
    "        * Assuming you were working in a C based language, an `int` is a data structure that defines 32 bits as an integer in the range of 2^32 that can be added, subtracted, multiplied, and divided\n",
    "    * There are four basic operations every Data Structure must implement\n",
    "        * Create\n",
    "        * Read\n",
    "        * Update\n",
    "        * Delete\n",
    "* Algorithms\n",
    "    * The difference between a program that uses resources inefficiently and a program that uses resources efficiently is algorithms  \n",
    "    * An algorithm is just a set of steps to solve a specific problem. While it is useful to know how to implement merge-sort or Dijkstra's Shortest Path, it is more important that you know when and why they are better.\n",
    "        * Quicksort is a fast sorting algorithm, but if you do not understand why, you may get worse complexity than bubble sort. Understanding the tradeoffs and why they exist is more important than memorizing the Algorithms \n",
    "    *(don't tell Madden I said that)*\n",
    "* Design Patterns\n",
    "    * How you design the system determines how maintainable and how \"updatable\" the system is.\n",
    "    * Design Patterns describe ways to design software systems and components\n",
    "        * Examples: MVC, Singleton, Proxy\n",
    "            * technically, MVC isn't a design pattern\n",
    "    * Design Patterns are concerned with creating a system where changing component A does not force you to then alter component B, which then requires you to alter component C, etc...\n",
    "        * Our software should be:\n",
    "            1. encapsulated\n",
    "                * capable of running independent of resources outside the local system\n",
    "            2. modular\n",
    "                * each internal component has an associated data structure made up of other internal components or data.\n",
    "            3. loosely coupled\n",
    "                * The internal components have minimal interdependence"
   ]
  },
  {
   "cell_type": "markdown",
   "metadata": {},
   "source": [
    "### Part 2\n",
    "\n",
    "#### Software Engeering Basics\n",
    "\n",
    "> **Software Engineering Rule #2**: *Good software is in your head, not the computer*  \n",
    "> Design, Design, Design, then design some more. You should spend at least as much time designing your code, before you write a single line, as you will spend coding."
   ]
  }
 ],
 "metadata": {
  "interpreter": {
   "hash": "d396f3607e8b3e6bfc2fdae356169562b28e273c2fda1d30f25e33089c9c8fcf"
  },
  "kernelspec": {
   "display_name": "Python 3.9.9 64-bit ('3.9.9': pyenv)",
   "language": "python",
   "name": "python3"
  },
  "language_info": {
   "codemirror_mode": {
    "name": "ipython",
    "version": 3
   },
   "file_extension": ".py",
   "mimetype": "text/x-python",
   "name": "python",
   "nbconvert_exporter": "python",
   "pygments_lexer": "ipython3",
   "version": "3.9.9"
  },
  "orig_nbformat": 4
 },
 "nbformat": 4,
 "nbformat_minor": 2
}
